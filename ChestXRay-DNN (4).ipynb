{
 "cells": [
  {
   "cell_type": "code",
   "execution_count": 42,
   "id": "4e31b7f6",
   "metadata": {},
   "outputs": [],
   "source": [
    "import keras\n",
    "from keras.models import Sequential\n",
    "from keras.layers import Conv2D\n",
    "from keras.layers import MaxPooling2D\n",
    "from keras.layers import Flatten\n",
    "from keras.layers import Dense\n",
    "from keras.preprocessing.image import ImageDataGenerator, load_img\n",
    "from sklearn.metrics import classification_report, confusion_matrix\n",
    "\n",
    "import numpy as np # forlinear algebra\n",
    "import matplotlib.pyplot as plt #for plotting things\n",
    "import os\n",
    "from PIL import Image"
   ]
  },
  {
   "cell_type": "code",
   "execution_count": 43,
   "id": "9a5cc3d5",
   "metadata": {},
   "outputs": [],
   "source": [
    "# Constants\n",
    "dir_path = '/Users/oliberman/Desktop/aloni/chest_xray'\n",
    "\n",
    "train_set_path = 'train'\n",
    "validation_set_path = 'val'\n",
    "test_set_path = 'test'\n",
    "\n",
    "labels = ['NORMAL', 'PNEUMONIA']\n",
    "\n",
    "batch_size = 32 # The default batch size of keras. \n",
    "num_classes = 2 # Number of class for the dataset \n",
    "epochs = 100\n",
    "data_augmentation = False"
   ]
  },
  {
   "cell_type": "code",
   "execution_count": 44,
   "id": "6c65f63d",
   "metadata": {},
   "outputs": [
    {
     "name": "stdout",
     "output_type": "stream",
     "text": [
      "Model: \"sequential_4\"\n",
      "_________________________________________________________________\n",
      " Layer (type)                Output Shape              Param #   \n",
      "=================================================================\n",
      " conv2d_12 (Conv2D)          (None, 62, 62, 32)        896       \n",
      "                                                                 \n",
      " max_pooling2d_11 (MaxPoolin  (None, 31, 31, 32)       0         \n",
      " g2D)                                                            \n",
      "                                                                 \n",
      " conv2d_13 (Conv2D)          (None, 29, 29, 32)        9248      \n",
      "                                                                 \n",
      " max_pooling2d_12 (MaxPoolin  (None, 14, 14, 32)       0         \n",
      " g2D)                                                            \n",
      "                                                                 \n",
      " flatten_3 (Flatten)         (None, 6272)              0         \n",
      "                                                                 \n",
      " dense_6 (Dense)             (None, 128)               802944    \n",
      "                                                                 \n",
      " dense_7 (Dense)             (None, 1)                 129       \n",
      "                                                                 \n",
      "=================================================================\n",
      "Total params: 813,217\n",
      "Trainable params: 813,217\n",
      "Non-trainable params: 0\n",
      "_________________________________________________________________\n"
     ]
    }
   ],
   "source": [
    "cnn = Sequential()\n",
    "\n",
    "#Convolution\n",
    "cnn.add(Conv2D(32, (3, 3), activation=\"relu\", input_shape=(64, 64, 3)))\n",
    "\n",
    "#Pooling\n",
    "cnn.add(MaxPooling2D(pool_size = (2, 2)))\n",
    "\n",
    "# 2nd Convolution\n",
    "cnn.add(Conv2D(32, (3, 3), activation=\"relu\"))\n",
    "\n",
    "# 2nd Pooling layer\n",
    "cnn.add(MaxPooling2D(pool_size = (2, 2)))\n",
    "\n",
    "# Flatten the layer\n",
    "cnn.add(Flatten())\n",
    "\n",
    "# Fully Connected Layers\n",
    "cnn.add(Dense(activation = 'relu', units = 128))\n",
    "cnn.add(Dense(activation = 'sigmoid', units = 1))\n",
    "\n",
    "# Compile the Neural network\n",
    "cnn.compile(optimizer = 'adam', loss = 'binary_crossentropy', metrics = ['accuracy'])\n",
    "\n",
    "cnn.summary()"
   ]
  },
  {
   "cell_type": "code",
   "execution_count": 45,
   "id": "6e83732e",
   "metadata": {},
   "outputs": [
    {
     "name": "stdout",
     "output_type": "stream",
     "text": [
      "Found 5216 images belonging to 2 classes.\n",
      "Found 624 images belonging to 2 classes.\n",
      "Found 16 images belonging to 2 classes.\n"
     ]
    }
   ],
   "source": [
    "train_datagen = ImageDataGenerator(rescale = 1./255,\n",
    "                                   shear_range = 0.2,\n",
    "                                   zoom_range = 0.2,\n",
    "                                   horizontal_flip = True)\n",
    "training_set = train_datagen.flow_from_directory(f'{dir_path}/{train_set_path}',\n",
    "                                                 target_size = (64, 64),\n",
    "                                                 batch_size = 32,\n",
    "                                                 class_mode = 'binary')\n",
    "\n",
    "\n",
    "test_datagen = ImageDataGenerator(rescale = 1./255)  #Image normalization.\n",
    "test_set = test_datagen.flow_from_directory(f'{dir_path}/{test_set_path}',\n",
    "                                            target_size = (64, 64),\n",
    "                                            batch_size = 32,\n",
    "                                            class_mode = 'binary')\n",
    "\n",
    "\n",
    "\n",
    "validation_generator = test_datagen.flow_from_directory(f'{dir_path}/{validation_set_path}',\n",
    "    target_size=(64, 64),\n",
    "    batch_size=32,\n",
    "    class_mode='binary')"
   ]
  },
  {
   "cell_type": "code",
   "execution_count": 46,
   "id": "2c1f2f26",
   "metadata": {},
   "outputs": [
    {
     "name": "stderr",
     "output_type": "stream",
     "text": [
      "/var/folders/wv/t_37l67d3ll3xrvr1_32wx8h0000gn/T/ipykernel_37237/753274509.py:1: UserWarning: `Model.fit_generator` is deprecated and will be removed in a future version. Please use `Model.fit`, which supports generators.\n",
      "  cnn_model = cnn.fit_generator(training_set,\n"
     ]
    },
    {
     "name": "stdout",
     "output_type": "stream",
     "text": [
      "Epoch 1/50\n",
      "16/16 [==============================] - ETA: 0s - loss: 0.6156 - accuracy: 0.6992WARNING:tensorflow:Your input ran out of data; interrupting training. Make sure that your dataset or generator can generate at least `steps_per_epoch * epochs` batches (in this case, 624 batches). You may need to use the repeat() function when building your dataset.\n",
      "16/16 [==============================] - 9s 537ms/step - loss: 0.6156 - accuracy: 0.6992 - val_loss: 0.9170 - val_accuracy: 0.5000\n",
      "Epoch 2/50\n",
      "16/16 [==============================] - 7s 463ms/step - loss: 0.5261 - accuracy: 0.7500\n",
      "Epoch 3/50\n",
      "16/16 [==============================] - 8s 474ms/step - loss: 0.4345 - accuracy: 0.7949\n",
      "Epoch 4/50\n",
      "16/16 [==============================] - 8s 473ms/step - loss: 0.3477 - accuracy: 0.8359\n",
      "Epoch 5/50\n",
      "16/16 [==============================] - 8s 470ms/step - loss: 0.3076 - accuracy: 0.8691\n",
      "Epoch 6/50\n",
      "16/16 [==============================] - 8s 466ms/step - loss: 0.3021 - accuracy: 0.8555\n",
      "Epoch 7/50\n",
      "16/16 [==============================] - 8s 512ms/step - loss: 0.2703 - accuracy: 0.9004\n",
      "Epoch 8/50\n",
      "16/16 [==============================] - 9s 529ms/step - loss: 0.2572 - accuracy: 0.8906\n",
      "Epoch 9/50\n",
      "16/16 [==============================] - 8s 489ms/step - loss: 0.2551 - accuracy: 0.8984\n",
      "Epoch 10/50\n",
      "16/16 [==============================] - 7s 462ms/step - loss: 0.2250 - accuracy: 0.9160\n",
      "Epoch 11/50\n",
      "16/16 [==============================] - 7s 448ms/step - loss: 0.2621 - accuracy: 0.8926\n",
      "Epoch 12/50\n",
      "16/16 [==============================] - 8s 474ms/step - loss: 0.2493 - accuracy: 0.8887\n",
      "Epoch 13/50\n",
      "16/16 [==============================] - 8s 492ms/step - loss: 0.2600 - accuracy: 0.8945\n",
      "Epoch 14/50\n",
      "16/16 [==============================] - 9s 530ms/step - loss: 0.2159 - accuracy: 0.9121\n",
      "Epoch 15/50\n",
      "16/16 [==============================] - 8s 523ms/step - loss: 0.2203 - accuracy: 0.9023\n",
      "Epoch 16/50\n",
      "16/16 [==============================] - 8s 503ms/step - loss: 0.2287 - accuracy: 0.9141\n",
      "Epoch 17/50\n",
      "16/16 [==============================] - 8s 485ms/step - loss: 0.2434 - accuracy: 0.9062\n",
      "Epoch 18/50\n",
      "16/16 [==============================] - 8s 508ms/step - loss: 0.2346 - accuracy: 0.9062\n",
      "Epoch 19/50\n",
      "16/16 [==============================] - 8s 528ms/step - loss: 0.2013 - accuracy: 0.9277\n",
      "Epoch 20/50\n",
      "16/16 [==============================] - 8s 500ms/step - loss: 0.2502 - accuracy: 0.8965\n",
      "Epoch 21/50\n",
      "16/16 [==============================] - 8s 503ms/step - loss: 0.1973 - accuracy: 0.9121\n",
      "Epoch 22/50\n",
      "16/16 [==============================] - 8s 495ms/step - loss: 0.2117 - accuracy: 0.9258\n",
      "Epoch 23/50\n",
      "16/16 [==============================] - 8s 503ms/step - loss: 0.2319 - accuracy: 0.8926\n",
      "Epoch 24/50\n",
      "16/16 [==============================] - 8s 477ms/step - loss: 0.1988 - accuracy: 0.9219\n",
      "Epoch 25/50\n",
      "16/16 [==============================] - 8s 515ms/step - loss: 0.2311 - accuracy: 0.9043\n",
      "Epoch 26/50\n",
      "16/16 [==============================] - 8s 510ms/step - loss: 0.2057 - accuracy: 0.9199\n",
      "Epoch 27/50\n",
      "16/16 [==============================] - 8s 520ms/step - loss: 0.1892 - accuracy: 0.9219\n",
      "Epoch 28/50\n",
      "16/16 [==============================] - 8s 484ms/step - loss: 0.1916 - accuracy: 0.9277\n",
      "Epoch 29/50\n",
      "16/16 [==============================] - 8s 512ms/step - loss: 0.1815 - accuracy: 0.9297\n",
      "Epoch 30/50\n",
      "16/16 [==============================] - 8s 483ms/step - loss: 0.2274 - accuracy: 0.9004\n",
      "Epoch 31/50\n",
      "16/16 [==============================] - 8s 480ms/step - loss: 0.1982 - accuracy: 0.9102\n",
      "Epoch 32/50\n",
      "16/16 [==============================] - 8s 493ms/step - loss: 0.1535 - accuracy: 0.9375\n",
      "Epoch 33/50\n",
      "16/16 [==============================] - 8s 504ms/step - loss: 0.2423 - accuracy: 0.9023\n",
      "Epoch 34/50\n",
      "16/16 [==============================] - 7s 456ms/step - loss: 0.1949 - accuracy: 0.9277\n",
      "Epoch 35/50\n",
      "16/16 [==============================] - 8s 482ms/step - loss: 0.2259 - accuracy: 0.9004\n",
      "Epoch 36/50\n",
      "16/16 [==============================] - 9s 537ms/step - loss: 0.1916 - accuracy: 0.9199\n",
      "Epoch 37/50\n",
      "16/16 [==============================] - 8s 493ms/step - loss: 0.1843 - accuracy: 0.9316\n",
      "Epoch 38/50\n",
      "16/16 [==============================] - 7s 430ms/step - loss: 0.1993 - accuracy: 0.9219\n",
      "Epoch 39/50\n",
      "16/16 [==============================] - 8s 482ms/step - loss: 0.1724 - accuracy: 0.9258\n",
      "Epoch 40/50\n",
      "16/16 [==============================] - 8s 475ms/step - loss: 0.2014 - accuracy: 0.9219\n",
      "Epoch 41/50\n",
      "16/16 [==============================] - 8s 463ms/step - loss: 0.1708 - accuracy: 0.9375\n",
      "Epoch 42/50\n",
      "16/16 [==============================] - 8s 490ms/step - loss: 0.1738 - accuracy: 0.9395\n",
      "Epoch 43/50\n",
      "16/16 [==============================] - 8s 509ms/step - loss: 0.1239 - accuracy: 0.9570\n",
      "Epoch 44/50\n",
      "16/16 [==============================] - 8s 512ms/step - loss: 0.1743 - accuracy: 0.9355\n",
      "Epoch 45/50\n",
      "16/16 [==============================] - 9s 531ms/step - loss: 0.1663 - accuracy: 0.9434\n",
      "Epoch 46/50\n",
      "16/16 [==============================] - 8s 496ms/step - loss: 0.1243 - accuracy: 0.9531\n",
      "Epoch 47/50\n",
      "16/16 [==============================] - 8s 485ms/step - loss: 0.1722 - accuracy: 0.9160\n",
      "Epoch 48/50\n",
      "16/16 [==============================] - 8s 481ms/step - loss: 0.1451 - accuracy: 0.9434\n",
      "Epoch 49/50\n",
      "16/16 [==============================] - 8s 522ms/step - loss: 0.1456 - accuracy: 0.9590\n",
      "Epoch 50/50\n",
      "16/16 [==============================] - 8s 512ms/step - loss: 0.1642 - accuracy: 0.9336\n"
     ]
    }
   ],
   "source": [
    "cnn_model = cnn.fit_generator(training_set,\n",
    "                                 steps_per_epoch = 16,\n",
    "                                 epochs = 50,\n",
    "                                 validation_data = validation_generator,\n",
    "                                 validation_steps = 624)"
   ]
  },
  {
   "cell_type": "code",
   "execution_count": 47,
   "id": "3bd93b64",
   "metadata": {},
   "outputs": [
    {
     "name": "stderr",
     "output_type": "stream",
     "text": [
      "/var/folders/wv/t_37l67d3ll3xrvr1_32wx8h0000gn/T/ipykernel_37237/3901488312.py:1: UserWarning: `Model.evaluate_generator` is deprecated and will be removed in a future version. Please use `Model.evaluate`, which supports generators.\n",
      "  test_accu = cnn.evaluate_generator(test_set,steps=624)\n"
     ]
    },
    {
     "name": "stdout",
     "output_type": "stream",
     "text": [
      "WARNING:tensorflow:Your input ran out of data; interrupting training. Make sure that your dataset or generator can generate at least `steps_per_epoch * epochs` batches (in this case, 624 batches). You may need to use the repeat() function when building your dataset.\n",
      "The testing accuracy is : 80.7692289352417 %\n"
     ]
    }
   ],
   "source": [
    "test_accu = cnn.evaluate_generator(test_set,steps=624)\n",
    "print('The testing accuracy is :',test_accu[1]*100, '%')"
   ]
  },
  {
   "cell_type": "code",
   "execution_count": 48,
   "id": "e7e6a372",
   "metadata": {},
   "outputs": [
    {
     "data": {
      "image/png": "[encoded data removed]",
      "text/plain": [
       "<Figure size 432x288 with 1 Axes>"
      ]
     },
     "metadata": {
      "needs_background": "light"
     },
     "output_type": "display_data"
    }
   ],
   "source": [
    "# Accuracy \n",
    "plt.plot(cnn_model.history['accuracy'])\n",
    "# plt.plot(cnn_model.history['val_accuracy'])\n",
    "plt.title('Model Accuracy')\n",
    "plt.ylabel('Accuracy')\n",
    "plt.xlabel('Epoch')\n",
    "plt.legend(['Training set', 'Validation set'], loc='upper left')\n",
    "plt.show()"
   ]
  },
  {
   "cell_type": "code",
   "execution_count": 49,
   "id": "49a36700",
   "metadata": {},
   "outputs": [
    {
     "data": {
      "image/png": "[encoded data removed]",
      "text/plain": [
       "<Figure size 432x288 with 1 Axes>"
      ]
     },
     "metadata": {
      "needs_background": "light"
     },
     "output_type": "display_data"
    }
   ],
   "source": [
    "# Loss \n",
    "# plt.plot(cnn_model.history['validation_loss'])\n",
    "plt.plot(cnn_model.history['loss'])\n",
    "plt.title('Model Loss')\n",
    "plt.ylabel('Loss')\n",
    "plt.xlabel('Epoch')\n",
    "plt.legend(['Training set', 'Test set'], loc='upper left')\n",
    "plt.show()"
   ]
  },
  {
   "cell_type": "code",
   "execution_count": 50,
   "id": "f18ad76c",
   "metadata": {},
   "outputs": [
    {
     "name": "stderr",
     "output_type": "stream",
     "text": [
      "/var/folders/wv/t_37l67d3ll3xrvr1_32wx8h0000gn/T/ipykernel_37237/1904999546.py:1: UserWarning: `Model.predict_generator` is deprecated and will be removed in a future version. Please use `Model.predict`, which supports generators.\n",
      "  Y_pred = cnn.predict_generator(test_set, 64)\n"
     ]
    },
    {
     "name": "stdout",
     "output_type": "stream",
     "text": [
      "WARNING:tensorflow:Your input ran out of data; interrupting training. Make sure that your dataset or generator can generate at least `steps_per_epoch * epochs` batches (in this case, 64 batches). You may need to use the repeat() function when building your dataset.\n",
      "Confusion Matrix\n",
      "[[234   0]\n",
      " [390   0]]\n"
     ]
    }
   ],
   "source": [
    "Y_pred = cnn.predict_generator(test_set, 64)\n",
    "y_pred = np.argmax(Y_pred, axis=1)\n",
    "\n",
    "print('Confusion Matrix')\n",
    "print(confusion_matrix(test_set.classes, y_pred))"
   ]
  },
  {
   "cell_type": "code",
   "execution_count": 51,
   "id": "91a1196d",
   "metadata": {},
   "outputs": [
    {
     "name": "stdout",
     "output_type": "stream",
     "text": [
      "Model: \"sequential_5\"\n",
      "_________________________________________________________________\n",
      " Layer (type)                Output Shape              Param #   \n",
      "=================================================================\n",
      " conv2d_14 (Conv2D)          (None, 62, 62, 32)        896       \n",
      "                                                                 \n",
      " max_pooling2d_13 (MaxPoolin  (None, 31, 31, 32)       0         \n",
      " g2D)                                                            \n",
      "                                                                 \n",
      " conv2d_15 (Conv2D)          (None, 29, 29, 32)        9248      \n",
      "                                                                 \n",
      " max_pooling2d_14 (MaxPoolin  (None, 14, 14, 32)       0         \n",
      " g2D)                                                            \n",
      "                                                                 \n",
      " conv2d_16 (Conv2D)          (None, 12, 12, 32)        9248      \n",
      "                                                                 \n",
      " max_pooling2d_15 (MaxPoolin  (None, 6, 6, 32)         0         \n",
      " g2D)                                                            \n",
      "                                                                 \n",
      " conv2d_17 (Conv2D)          (None, 4, 4, 32)          9248      \n",
      "                                                                 \n",
      " flatten_4 (Flatten)         (None, 512)               0         \n",
      "                                                                 \n",
      " dense_8 (Dense)             (None, 128)               65664     \n",
      "                                                                 \n",
      " dense_9 (Dense)             (None, 1)                 129       \n",
      "                                                                 \n",
      "=================================================================\n",
      "Total params: 94,433\n",
      "Trainable params: 94,433\n",
      "Non-trainable params: 0\n",
      "_________________________________________________________________\n"
     ]
    }
   ],
   "source": [
    "# Two more conv\n",
    "\n",
    "cnn = Sequential()\n",
    "\n",
    "#Convolution\n",
    "cnn.add(Conv2D(32, (3, 3), activation=\"relu\", input_shape=(64, 64, 3)))\n",
    "cnn.add(MaxPooling2D(pool_size = (2, 2)))\n",
    "cnn.add(Conv2D(32, (3, 3), activation=\"relu\"))\n",
    "cnn.add(MaxPooling2D(pool_size = (2, 2)))\n",
    "cnn.add(Conv2D(32, (3, 3), activation=\"relu\"))\n",
    "cnn.add(MaxPooling2D(pool_size = (2, 2)))\n",
    "cnn.add(Conv2D(32, (3, 3), activation=\"relu\"))\n",
    "cnn.add(Flatten())\n",
    "cnn.add(Dense(activation = 'relu', units = 128))\n",
    "cnn.add(Dense(activation = 'sigmoid', units = 1))\n",
    "\n",
    "# Compile the Neural network\n",
    "cnn.compile(optimizer = 'adam', loss = 'binary_crossentropy', metrics = ['accuracy'])\n",
    "\n",
    "cnn.summary()"
   ]
  },
  {
   "cell_type": "code",
   "execution_count": 52,
   "id": "37dd462a",
   "metadata": {},
   "outputs": [
    {
     "name": "stderr",
     "output_type": "stream",
     "text": [
      "/var/folders/wv/t_37l67d3ll3xrvr1_32wx8h0000gn/T/ipykernel_37237/753274509.py:1: UserWarning: `Model.fit_generator` is deprecated and will be removed in a future version. Please use `Model.fit`, which supports generators.\n",
      "  cnn_model = cnn.fit_generator(training_set,\n"
     ]
    },
    {
     "name": "stdout",
     "output_type": "stream",
     "text": [
      "Epoch 1/50\n",
      "16/16 [==============================] - ETA: 0s - loss: 0.6005 - accuracy: 0.7266WARNING:tensorflow:Your input ran out of data; interrupting training. Make sure that your dataset or generator can generate at least `steps_per_epoch * epochs` batches (in this case, 624 batches). You may need to use the repeat() function when building your dataset.\n",
      "16/16 [==============================] - 9s 542ms/step - loss: 0.6005 - accuracy: 0.7266 - val_loss: 0.7915 - val_accuracy: 0.5000\n",
      "Epoch 2/50\n",
      "16/16 [==============================] - 7s 440ms/step - loss: 0.5720 - accuracy: 0.7422\n",
      "Epoch 3/50\n",
      "16/16 [==============================] - 8s 496ms/step - loss: 0.5744 - accuracy: 0.7070\n",
      "Epoch 4/50\n",
      "16/16 [==============================] - 8s 474ms/step - loss: 0.4666 - accuracy: 0.7637\n",
      "Epoch 5/50\n",
      "16/16 [==============================] - 8s 507ms/step - loss: 0.4097 - accuracy: 0.7910\n",
      "Epoch 6/50\n",
      "16/16 [==============================] - 8s 499ms/step - loss: 0.4364 - accuracy: 0.7930\n",
      "Epoch 7/50\n",
      "16/16 [==============================] - 8s 497ms/step - loss: 0.3223 - accuracy: 0.8652\n",
      "Epoch 8/50\n",
      "16/16 [==============================] - 8s 523ms/step - loss: 0.4431 - accuracy: 0.7910\n",
      "Epoch 9/50\n",
      "16/16 [==============================] - 8s 477ms/step - loss: 0.3453 - accuracy: 0.8652\n",
      "Epoch 10/50\n",
      "16/16 [==============================] - 8s 494ms/step - loss: 0.3291 - accuracy: 0.8633\n",
      "Epoch 11/50\n",
      "16/16 [==============================] - 8s 507ms/step - loss: 0.2963 - accuracy: 0.8809\n",
      "Epoch 12/50\n",
      "16/16 [==============================] - 8s 474ms/step - loss: 0.2439 - accuracy: 0.8887\n",
      "Epoch 13/50\n",
      "16/16 [==============================] - 8s 499ms/step - loss: 0.2716 - accuracy: 0.8867\n",
      "Epoch 14/50\n",
      "16/16 [==============================] - 8s 470ms/step - loss: 0.2016 - accuracy: 0.9238\n",
      "Epoch 15/50\n",
      "16/16 [==============================] - 8s 504ms/step - loss: 0.2143 - accuracy: 0.9160\n",
      "Epoch 16/50\n",
      "16/16 [==============================] - 8s 498ms/step - loss: 0.2578 - accuracy: 0.9082\n",
      "Epoch 17/50\n",
      "16/16 [==============================] - 8s 494ms/step - loss: 0.2380 - accuracy: 0.8945\n",
      "Epoch 18/50\n",
      "16/16 [==============================] - 9s 550ms/step - loss: 0.2565 - accuracy: 0.8926\n",
      "Epoch 19/50\n",
      "16/16 [==============================] - 8s 508ms/step - loss: 0.2866 - accuracy: 0.8809\n",
      "Epoch 20/50\n",
      "16/16 [==============================] - 8s 497ms/step - loss: 0.2629 - accuracy: 0.8887\n",
      "Epoch 21/50\n",
      "16/16 [==============================] - 7s 435ms/step - loss: 0.1903 - accuracy: 0.9277\n",
      "Epoch 22/50\n",
      "16/16 [==============================] - 7s 423ms/step - loss: 0.3046 - accuracy: 0.8848\n",
      "Epoch 23/50\n",
      "16/16 [==============================] - 8s 497ms/step - loss: 0.2369 - accuracy: 0.9023\n",
      "Epoch 24/50\n",
      "16/16 [==============================] - 8s 486ms/step - loss: 0.2101 - accuracy: 0.9121\n",
      "Epoch 25/50\n",
      "16/16 [==============================] - 8s 479ms/step - loss: 0.2541 - accuracy: 0.8965\n",
      "Epoch 26/50\n",
      "16/16 [==============================] - 8s 493ms/step - loss: 0.2292 - accuracy: 0.9043\n",
      "Epoch 27/50\n",
      "16/16 [==============================] - 8s 496ms/step - loss: 0.2225 - accuracy: 0.9160\n",
      "Epoch 28/50\n",
      "16/16 [==============================] - 8s 480ms/step - loss: 0.2317 - accuracy: 0.9043\n",
      "Epoch 29/50\n",
      "16/16 [==============================] - 8s 490ms/step - loss: 0.1973 - accuracy: 0.9258\n",
      "Epoch 30/50\n",
      "16/16 [==============================] - 7s 471ms/step - loss: 0.2238 - accuracy: 0.8984\n",
      "Epoch 31/50\n",
      "16/16 [==============================] - 8s 465ms/step - loss: 0.2000 - accuracy: 0.9160\n",
      "Epoch 32/50\n",
      "16/16 [==============================] - 8s 486ms/step - loss: 0.1816 - accuracy: 0.9219\n",
      "Epoch 33/50\n",
      "16/16 [==============================] - 8s 480ms/step - loss: 0.1705 - accuracy: 0.9297\n",
      "Epoch 34/50\n",
      "16/16 [==============================] - 8s 501ms/step - loss: 0.2118 - accuracy: 0.9043\n",
      "Epoch 35/50\n",
      "16/16 [==============================] - 8s 484ms/step - loss: 0.2045 - accuracy: 0.9141\n",
      "Epoch 36/50\n",
      "16/16 [==============================] - 8s 476ms/step - loss: 0.1942 - accuracy: 0.9316\n",
      "Epoch 37/50\n",
      "16/16 [==============================] - 8s 510ms/step - loss: 0.1972 - accuracy: 0.9316\n",
      "Epoch 38/50\n",
      "16/16 [==============================] - 8s 515ms/step - loss: 0.2214 - accuracy: 0.8945\n",
      "Epoch 39/50\n",
      "16/16 [==============================] - 9s 546ms/step - loss: 0.1881 - accuracy: 0.9199\n",
      "Epoch 40/50\n",
      "16/16 [==============================] - 7s 467ms/step - loss: 0.1850 - accuracy: 0.9297\n",
      "Epoch 41/50\n",
      "16/16 [==============================] - 7s 453ms/step - loss: 0.1823 - accuracy: 0.9316\n",
      "Epoch 42/50\n",
      "16/16 [==============================] - 7s 443ms/step - loss: 0.1637 - accuracy: 0.9355\n",
      "Epoch 43/50\n",
      "16/16 [==============================] - 8s 499ms/step - loss: 0.2094 - accuracy: 0.9199\n",
      "Epoch 44/50\n",
      "16/16 [==============================] - 8s 512ms/step - loss: 0.2162 - accuracy: 0.9082\n",
      "Epoch 45/50\n",
      "16/16 [==============================] - 8s 504ms/step - loss: 0.1784 - accuracy: 0.9219\n",
      "Epoch 46/50\n",
      "16/16 [==============================] - 8s 484ms/step - loss: 0.1872 - accuracy: 0.9102\n",
      "Epoch 47/50\n",
      "16/16 [==============================] - 8s 500ms/step - loss: 0.1841 - accuracy: 0.9316\n",
      "Epoch 48/50\n",
      "16/16 [==============================] - 8s 494ms/step - loss: 0.1993 - accuracy: 0.9219\n",
      "Epoch 49/50\n",
      "16/16 [==============================] - 8s 481ms/step - loss: 0.1274 - accuracy: 0.9648\n",
      "Epoch 50/50\n",
      "16/16 [==============================] - 7s 462ms/step - loss: 0.1455 - accuracy: 0.9473\n"
     ]
    }
   ],
   "source": [
    "cnn_model = cnn.fit_generator(training_set,\n",
    "                                 steps_per_epoch = 16,\n",
    "                                 epochs = 50,\n",
    "                                 validation_data = validation_generator,\n",
    "                                 validation_steps = 624)"
   ]
  },
  {
   "cell_type": "code",
   "execution_count": 53,
   "id": "1c5d38c6",
   "metadata": {},
   "outputs": [
    {
     "name": "stderr",
     "output_type": "stream",
     "text": [
      "/var/folders/wv/t_37l67d3ll3xrvr1_32wx8h0000gn/T/ipykernel_37237/3901488312.py:1: UserWarning: `Model.evaluate_generator` is deprecated and will be removed in a future version. Please use `Model.evaluate`, which supports generators.\n",
      "  test_accu = cnn.evaluate_generator(test_set,steps=624)\n"
     ]
    },
    {
     "name": "stdout",
     "output_type": "stream",
     "text": [
      "WARNING:tensorflow:Your input ran out of data; interrupting training. Make sure that your dataset or generator can generate at least `steps_per_epoch * epochs` batches (in this case, 624 batches). You may need to use the repeat() function when building your dataset.\n",
      "The testing accuracy is : 89.42307829856873 %\n"
     ]
    }
   ],
   "source": [
    "test_accu = cnn.evaluate_generator(test_set,steps=624)\n",
    "print('The testing accuracy is :',test_accu[1]*100, '%')"
   ]
  },
  {
   "cell_type": "code",
   "execution_count": 54,
   "id": "ef4a1d0f",
   "metadata": {},
   "outputs": [
    {
     "data": {
      "image/png": "[encoded data removed]",
      "text/plain": [
       "<Figure size 432x288 with 1 Axes>"
      ]
     },
     "metadata": {
      "needs_background": "light"
     },
     "output_type": "display_data"
    }
   ],
   "source": [
    "# Accuracy \n",
    "plt.plot(cnn_model.history['accuracy'])\n",
    "# plt.plot(cnn_model.history['val_accuracy'])\n",
    "plt.title('Model Accuracy')\n",
    "plt.ylabel('Accuracy')\n",
    "plt.xlabel('Epoch')\n",
    "plt.legend(['Training set', 'Validation set'], loc='upper left')\n",
    "plt.show()"
   ]
  },
  {
   "cell_type": "code",
   "execution_count": 55,
   "id": "8f4391ca",
   "metadata": {},
   "outputs": [
    {
     "data": {
      "image/png": "[encoded data removed]",
      "text/plain": [
       "<Figure size 432x288 with 1 Axes>"
      ]
     },
     "metadata": {
      "needs_background": "light"
     },
     "output_type": "display_data"
    }
   ],
   "source": [
    "# Loss \n",
    "# plt.plot(cnn_model.history['validation_loss'])\n",
    "plt.plot(cnn_model.history['loss'])\n",
    "plt.title('Model Loss')\n",
    "plt.ylabel('Loss')\n",
    "plt.xlabel('Epoch')\n",
    "plt.legend(['Training set', 'Test set'], loc='upper left')\n",
    "plt.show()"
   ]
  },
  {
   "cell_type": "code",
   "execution_count": null,
   "id": "f044c59e",
   "metadata": {},
   "outputs": [],
   "source": []
  }
 ],
 "metadata": {
  "kernelspec": {
   "display_name": "Python 3 (ipykernel)",
   "language": "python",
   "name": "python3"
  },
  "language_info": {
   "codemirror_mode": {
    "name": "ipython",
    "version": 3
   },
   "file_extension": ".py",
   "mimetype": "text/x-python",
   "name": "python",
   "nbconvert_exporter": "python",
   "pygments_lexer": "ipython3",
   "version": "3.10.1"
  }
 },
 "nbformat": 4,
 "nbformat_minor": 5
}
